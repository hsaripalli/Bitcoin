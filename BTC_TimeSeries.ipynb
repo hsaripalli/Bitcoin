{
  "nbformat": 4,
  "nbformat_minor": 0,
  "metadata": {
    "colab": {
      "name": "BTC TimeSeries.ipynb",
      "provenance": [],
      "collapsed_sections": [],
      "authorship_tag": "ABX9TyMPCIBKZVnrCJID4zpJo6je",
      "include_colab_link": true
    },
    "kernelspec": {
      "name": "python3",
      "display_name": "Python 3"
    },
    "language_info": {
      "name": "python"
    }
  },
  "cells": [
    {
      "cell_type": "markdown",
      "metadata": {
        "id": "view-in-github",
        "colab_type": "text"
      },
      "source": [
        "<a href=\"https://colab.research.google.com/github/hsaripalli/Bitcoin/blob/main/BTC_TimeSeries.ipynb\" target=\"_parent\"><img src=\"https://colab.research.google.com/assets/colab-badge.svg\" alt=\"Open In Colab\"/></a>"
      ]
    },
    {
      "cell_type": "code",
      "source": [
        "# Reference for the code: \n",
        "# https://www.youtube.com/watch?v=H6du_pfuznE&ab_channel=KrishNaik"
      ],
      "metadata": {
        "id": "hY3S2h2D1x6d"
      },
      "execution_count": null,
      "outputs": []
    },
    {
      "cell_type": "code",
      "execution_count": null,
      "metadata": {
        "colab": {
          "base_uri": "https://localhost:8080/"
        },
        "id": "rwX6wbA0omjC",
        "outputId": "7d6ccee6-c343-4458-f15a-f6af9074e72c"
      },
      "outputs": [
        {
          "output_type": "stream",
          "name": "stdout",
          "text": [
            "Requirement already satisfied: yfinance in /usr/local/lib/python3.7/dist-packages (0.1.70)\n",
            "Requirement already satisfied: lxml>=4.5.1 in /usr/local/lib/python3.7/dist-packages (from yfinance) (4.7.1)\n",
            "Requirement already satisfied: pandas>=0.24.0 in /usr/local/lib/python3.7/dist-packages (from yfinance) (1.1.5)\n",
            "Requirement already satisfied: numpy>=1.15 in /usr/local/lib/python3.7/dist-packages (from yfinance) (1.19.5)\n",
            "Requirement already satisfied: multitasking>=0.0.7 in /usr/local/lib/python3.7/dist-packages (from yfinance) (0.0.10)\n",
            "Requirement already satisfied: requests>=2.26 in /usr/local/lib/python3.7/dist-packages (from yfinance) (2.27.1)\n",
            "Requirement already satisfied: pytz>=2017.2 in /usr/local/lib/python3.7/dist-packages (from pandas>=0.24.0->yfinance) (2018.9)\n",
            "Requirement already satisfied: python-dateutil>=2.7.3 in /usr/local/lib/python3.7/dist-packages (from pandas>=0.24.0->yfinance) (2.8.2)\n",
            "Requirement already satisfied: six>=1.5 in /usr/local/lib/python3.7/dist-packages (from python-dateutil>=2.7.3->pandas>=0.24.0->yfinance) (1.15.0)\n",
            "Requirement already satisfied: certifi>=2017.4.17 in /usr/local/lib/python3.7/dist-packages (from requests>=2.26->yfinance) (2021.10.8)\n",
            "Requirement already satisfied: idna<4,>=2.5 in /usr/local/lib/python3.7/dist-packages (from requests>=2.26->yfinance) (2.10)\n",
            "Requirement already satisfied: urllib3<1.27,>=1.21.1 in /usr/local/lib/python3.7/dist-packages (from requests>=2.26->yfinance) (1.24.3)\n",
            "Requirement already satisfied: charset-normalizer~=2.0.0 in /usr/local/lib/python3.7/dist-packages (from requests>=2.26->yfinance) (2.0.10)\n"
          ]
        }
      ],
      "source": [
        "pip install yfinance"
      ]
    },
    {
      "cell_type": "code",
      "source": [
        "import yfinance as yf\n",
        "import numpy as np\n",
        "import pandas as pd\n",
        "from matplotlib import pyplot as plt\n",
        "import math"
      ],
      "metadata": {
        "id": "U1NxwsJ9op5y"
      },
      "execution_count": null,
      "outputs": []
    },
    {
      "cell_type": "code",
      "source": [
        "btc = yf.download('BTC-USD')\n",
        "btc"
      ],
      "metadata": {
        "colab": {
          "base_uri": "https://localhost:8080/",
          "height": 472
        },
        "id": "RfjJLNMhovxi",
        "outputId": "4e61bbcc-e975-47c6-9df6-fc60513bd2e8"
      },
      "execution_count": null,
      "outputs": [
        {
          "output_type": "stream",
          "name": "stdout",
          "text": [
            "\r[*********************100%***********************]  1 of 1 completed\n"
          ]
        },
        {
          "output_type": "execute_result",
          "data": {
            "text/html": [
              "\n",
              "  <div id=\"df-2f0c92ea-e654-4f9b-8d41-e51c268cc09a\">\n",
              "    <div class=\"colab-df-container\">\n",
              "      <div>\n",
              "<style scoped>\n",
              "    .dataframe tbody tr th:only-of-type {\n",
              "        vertical-align: middle;\n",
              "    }\n",
              "\n",
              "    .dataframe tbody tr th {\n",
              "        vertical-align: top;\n",
              "    }\n",
              "\n",
              "    .dataframe thead th {\n",
              "        text-align: right;\n",
              "    }\n",
              "</style>\n",
              "<table border=\"1\" class=\"dataframe\">\n",
              "  <thead>\n",
              "    <tr style=\"text-align: right;\">\n",
              "      <th></th>\n",
              "      <th>Open</th>\n",
              "      <th>High</th>\n",
              "      <th>Low</th>\n",
              "      <th>Close</th>\n",
              "      <th>Adj Close</th>\n",
              "      <th>Volume</th>\n",
              "    </tr>\n",
              "    <tr>\n",
              "      <th>Date</th>\n",
              "      <th></th>\n",
              "      <th></th>\n",
              "      <th></th>\n",
              "      <th></th>\n",
              "      <th></th>\n",
              "      <th></th>\n",
              "    </tr>\n",
              "  </thead>\n",
              "  <tbody>\n",
              "    <tr>\n",
              "      <th>2014-09-17</th>\n",
              "      <td>465.864014</td>\n",
              "      <td>468.174011</td>\n",
              "      <td>452.421997</td>\n",
              "      <td>457.334015</td>\n",
              "      <td>457.334015</td>\n",
              "      <td>21056800</td>\n",
              "    </tr>\n",
              "    <tr>\n",
              "      <th>2014-09-18</th>\n",
              "      <td>456.859985</td>\n",
              "      <td>456.859985</td>\n",
              "      <td>413.104004</td>\n",
              "      <td>424.440002</td>\n",
              "      <td>424.440002</td>\n",
              "      <td>34483200</td>\n",
              "    </tr>\n",
              "    <tr>\n",
              "      <th>2014-09-19</th>\n",
              "      <td>424.102997</td>\n",
              "      <td>427.834991</td>\n",
              "      <td>384.532013</td>\n",
              "      <td>394.795990</td>\n",
              "      <td>394.795990</td>\n",
              "      <td>37919700</td>\n",
              "    </tr>\n",
              "    <tr>\n",
              "      <th>2014-09-20</th>\n",
              "      <td>394.673004</td>\n",
              "      <td>423.295990</td>\n",
              "      <td>389.882996</td>\n",
              "      <td>408.903992</td>\n",
              "      <td>408.903992</td>\n",
              "      <td>36863600</td>\n",
              "    </tr>\n",
              "    <tr>\n",
              "      <th>2014-09-21</th>\n",
              "      <td>408.084991</td>\n",
              "      <td>412.425995</td>\n",
              "      <td>393.181000</td>\n",
              "      <td>398.821014</td>\n",
              "      <td>398.821014</td>\n",
              "      <td>26580100</td>\n",
              "    </tr>\n",
              "    <tr>\n",
              "      <th>...</th>\n",
              "      <td>...</td>\n",
              "      <td>...</td>\n",
              "      <td>...</td>\n",
              "      <td>...</td>\n",
              "      <td>...</td>\n",
              "      <td>...</td>\n",
              "    </tr>\n",
              "    <tr>\n",
              "      <th>2022-01-26</th>\n",
              "      <td>36950.515625</td>\n",
              "      <td>38825.410156</td>\n",
              "      <td>36374.906250</td>\n",
              "      <td>36852.121094</td>\n",
              "      <td>36852.121094</td>\n",
              "      <td>31324598034</td>\n",
              "    </tr>\n",
              "    <tr>\n",
              "      <th>2022-01-27</th>\n",
              "      <td>36841.878906</td>\n",
              "      <td>37148.324219</td>\n",
              "      <td>35629.281250</td>\n",
              "      <td>37138.234375</td>\n",
              "      <td>37138.234375</td>\n",
              "      <td>25041426629</td>\n",
              "    </tr>\n",
              "    <tr>\n",
              "      <th>2022-01-28</th>\n",
              "      <td>37128.445312</td>\n",
              "      <td>37952.878906</td>\n",
              "      <td>36211.109375</td>\n",
              "      <td>37784.332031</td>\n",
              "      <td>37784.332031</td>\n",
              "      <td>22238830523</td>\n",
              "    </tr>\n",
              "    <tr>\n",
              "      <th>2022-01-29</th>\n",
              "      <td>37780.714844</td>\n",
              "      <td>38576.261719</td>\n",
              "      <td>37406.472656</td>\n",
              "      <td>38138.179688</td>\n",
              "      <td>38138.179688</td>\n",
              "      <td>17194183075</td>\n",
              "    </tr>\n",
              "    <tr>\n",
              "      <th>2022-01-30</th>\n",
              "      <td>38141.054688</td>\n",
              "      <td>38257.039062</td>\n",
              "      <td>37847.410156</td>\n",
              "      <td>37946.878906</td>\n",
              "      <td>37946.878906</td>\n",
              "      <td>17296826368</td>\n",
              "    </tr>\n",
              "  </tbody>\n",
              "</table>\n",
              "<p>2693 rows × 6 columns</p>\n",
              "</div>\n",
              "      <button class=\"colab-df-convert\" onclick=\"convertToInteractive('df-2f0c92ea-e654-4f9b-8d41-e51c268cc09a')\"\n",
              "              title=\"Convert this dataframe to an interactive table.\"\n",
              "              style=\"display:none;\">\n",
              "        \n",
              "  <svg xmlns=\"http://www.w3.org/2000/svg\" height=\"24px\"viewBox=\"0 0 24 24\"\n",
              "       width=\"24px\">\n",
              "    <path d=\"M0 0h24v24H0V0z\" fill=\"none\"/>\n",
              "    <path d=\"M18.56 5.44l.94 2.06.94-2.06 2.06-.94-2.06-.94-.94-2.06-.94 2.06-2.06.94zm-11 1L8.5 8.5l.94-2.06 2.06-.94-2.06-.94L8.5 2.5l-.94 2.06-2.06.94zm10 10l.94 2.06.94-2.06 2.06-.94-2.06-.94-.94-2.06-.94 2.06-2.06.94z\"/><path d=\"M17.41 7.96l-1.37-1.37c-.4-.4-.92-.59-1.43-.59-.52 0-1.04.2-1.43.59L10.3 9.45l-7.72 7.72c-.78.78-.78 2.05 0 2.83L4 21.41c.39.39.9.59 1.41.59.51 0 1.02-.2 1.41-.59l7.78-7.78 2.81-2.81c.8-.78.8-2.07 0-2.86zM5.41 20L4 18.59l7.72-7.72 1.47 1.35L5.41 20z\"/>\n",
              "  </svg>\n",
              "      </button>\n",
              "      \n",
              "  <style>\n",
              "    .colab-df-container {\n",
              "      display:flex;\n",
              "      flex-wrap:wrap;\n",
              "      gap: 12px;\n",
              "    }\n",
              "\n",
              "    .colab-df-convert {\n",
              "      background-color: #E8F0FE;\n",
              "      border: none;\n",
              "      border-radius: 50%;\n",
              "      cursor: pointer;\n",
              "      display: none;\n",
              "      fill: #1967D2;\n",
              "      height: 32px;\n",
              "      padding: 0 0 0 0;\n",
              "      width: 32px;\n",
              "    }\n",
              "\n",
              "    .colab-df-convert:hover {\n",
              "      background-color: #E2EBFA;\n",
              "      box-shadow: 0px 1px 2px rgba(60, 64, 67, 0.3), 0px 1px 3px 1px rgba(60, 64, 67, 0.15);\n",
              "      fill: #174EA6;\n",
              "    }\n",
              "\n",
              "    [theme=dark] .colab-df-convert {\n",
              "      background-color: #3B4455;\n",
              "      fill: #D2E3FC;\n",
              "    }\n",
              "\n",
              "    [theme=dark] .colab-df-convert:hover {\n",
              "      background-color: #434B5C;\n",
              "      box-shadow: 0px 1px 3px 1px rgba(0, 0, 0, 0.15);\n",
              "      filter: drop-shadow(0px 1px 2px rgba(0, 0, 0, 0.3));\n",
              "      fill: #FFFFFF;\n",
              "    }\n",
              "  </style>\n",
              "\n",
              "      <script>\n",
              "        const buttonEl =\n",
              "          document.querySelector('#df-2f0c92ea-e654-4f9b-8d41-e51c268cc09a button.colab-df-convert');\n",
              "        buttonEl.style.display =\n",
              "          google.colab.kernel.accessAllowed ? 'block' : 'none';\n",
              "\n",
              "        async function convertToInteractive(key) {\n",
              "          const element = document.querySelector('#df-2f0c92ea-e654-4f9b-8d41-e51c268cc09a');\n",
              "          const dataTable =\n",
              "            await google.colab.kernel.invokeFunction('convertToInteractive',\n",
              "                                                     [key], {});\n",
              "          if (!dataTable) return;\n",
              "\n",
              "          const docLinkHtml = 'Like what you see? Visit the ' +\n",
              "            '<a target=\"_blank\" href=https://colab.research.google.com/notebooks/data_table.ipynb>data table notebook</a>'\n",
              "            + ' to learn more about interactive tables.';\n",
              "          element.innerHTML = '';\n",
              "          dataTable['output_type'] = 'display_data';\n",
              "          await google.colab.output.renderOutput(dataTable, element);\n",
              "          const docLink = document.createElement('div');\n",
              "          docLink.innerHTML = docLinkHtml;\n",
              "          element.appendChild(docLink);\n",
              "        }\n",
              "      </script>\n",
              "    </div>\n",
              "  </div>\n",
              "  "
            ],
            "text/plain": [
              "                    Open          High  ...     Adj Close       Volume\n",
              "Date                                    ...                           \n",
              "2014-09-17    465.864014    468.174011  ...    457.334015     21056800\n",
              "2014-09-18    456.859985    456.859985  ...    424.440002     34483200\n",
              "2014-09-19    424.102997    427.834991  ...    394.795990     37919700\n",
              "2014-09-20    394.673004    423.295990  ...    408.903992     36863600\n",
              "2014-09-21    408.084991    412.425995  ...    398.821014     26580100\n",
              "...                  ...           ...  ...           ...          ...\n",
              "2022-01-26  36950.515625  38825.410156  ...  36852.121094  31324598034\n",
              "2022-01-27  36841.878906  37148.324219  ...  37138.234375  25041426629\n",
              "2022-01-28  37128.445312  37952.878906  ...  37784.332031  22238830523\n",
              "2022-01-29  37780.714844  38576.261719  ...  38138.179688  17194183075\n",
              "2022-01-30  38141.054688  38257.039062  ...  37946.878906  17296826368\n",
              "\n",
              "[2693 rows x 6 columns]"
            ]
          },
          "metadata": {},
          "execution_count": 39
        }
      ]
    },
    {
      "cell_type": "code",
      "source": [
        "btc = btc.tail(1095)\n",
        "btc = btc.reset_index()['Adj Close']\n",
        "btc"
      ],
      "metadata": {
        "colab": {
          "base_uri": "https://localhost:8080/"
        },
        "id": "tY02nX4EnjKY",
        "outputId": "e87c495c-2e18-4dd1-d6b5-23749a85e9bb"
      },
      "execution_count": null,
      "outputs": [
        {
          "output_type": "execute_result",
          "data": {
            "text/plain": [
              "0        3487.945312\n",
              "1        3521.060791\n",
              "2        3464.013428\n",
              "3        3459.154053\n",
              "4        3466.357422\n",
              "            ...     \n",
              "1090    36852.121094\n",
              "1091    37138.234375\n",
              "1092    37784.332031\n",
              "1093    38138.179688\n",
              "1094    37946.878906\n",
              "Name: Adj Close, Length: 1095, dtype: float64"
            ]
          },
          "metadata": {},
          "execution_count": 40
        }
      ]
    },
    {
      "cell_type": "code",
      "source": [
        "from sklearn.preprocessing import MinMaxScaler\n",
        "scaler = MinMaxScaler(feature_range = (0,1))\n",
        "scaled_btc = scaler.fit_transform(np.array(btc).reshape(-1,1))"
      ],
      "metadata": {
        "id": "Qo1e1Et_gcej"
      },
      "execution_count": null,
      "outputs": []
    },
    {
      "cell_type": "code",
      "source": [
        "scaled_btc.shape"
      ],
      "metadata": {
        "colab": {
          "base_uri": "https://localhost:8080/"
        },
        "id": "_CkOk-tmgu-j",
        "outputId": "922836d4-b8cf-4e63-efa1-7a6d308d9e56"
      },
      "execution_count": null,
      "outputs": [
        {
          "output_type": "execute_result",
          "data": {
            "text/plain": [
              "(1095, 1)"
            ]
          },
          "metadata": {},
          "execution_count": 42
        }
      ]
    },
    {
      "cell_type": "code",
      "source": [
        "train_size = int(len(scaled_btc)*0.8)\n",
        "test_size = len(scaled_btc)-train_size\n",
        "train_data, test_data = scaled_btc[0:train_size,:], scaled_btc[train_size:len(scaled_btc),:1]"
      ],
      "metadata": {
        "id": "LlwgJ8PVgwLk"
      },
      "execution_count": null,
      "outputs": []
    },
    {
      "cell_type": "code",
      "source": [
        "def create_dataset(dataset, time_step = 1):\n",
        "  dataX, dataY = [],[]\n",
        "  for i in range(len(dataset) - time_step-1):\n",
        "    a = dataset[i:(i+time_step),0]\n",
        "    dataX.append(a)\n",
        "    dataY.append(dataset[i+time_step,0])\n",
        "  return np.array(dataX), np.array(dataY)"
      ],
      "metadata": {
        "id": "BYxgiZ6Yxt9S"
      },
      "execution_count": null,
      "outputs": []
    },
    {
      "cell_type": "code",
      "source": [
        "time_step = 100\n",
        "X_train, y_train = create_dataset(train_data, time_step)\n",
        "X_test, y_test = create_dataset(test_data, time_step)"
      ],
      "metadata": {
        "id": "HTkNieZ80IzB"
      },
      "execution_count": null,
      "outputs": []
    },
    {
      "cell_type": "code",
      "source": [
        "print(X_train.shape), print(y_train.shape)"
      ],
      "metadata": {
        "colab": {
          "base_uri": "https://localhost:8080/"
        },
        "id": "CyvYj57J0VX6",
        "outputId": "e0029946-476e-4156-ca94-f516ec4d41c9"
      },
      "execution_count": null,
      "outputs": [
        {
          "output_type": "stream",
          "name": "stdout",
          "text": [
            "(775, 100)\n",
            "(775,)\n"
          ]
        },
        {
          "output_type": "execute_result",
          "data": {
            "text/plain": [
              "(None, None)"
            ]
          },
          "metadata": {},
          "execution_count": 46
        }
      ]
    },
    {
      "cell_type": "code",
      "source": [
        "print(X_test.shape), print(y_test.shape)"
      ],
      "metadata": {
        "colab": {
          "base_uri": "https://localhost:8080/"
        },
        "id": "NstLiOYK0cgK",
        "outputId": "f6ef24b5-cfde-498f-d8b8-966c6c7b0c82"
      },
      "execution_count": null,
      "outputs": [
        {
          "output_type": "stream",
          "name": "stdout",
          "text": [
            "(118, 100)\n",
            "(118,)\n"
          ]
        },
        {
          "output_type": "execute_result",
          "data": {
            "text/plain": [
              "(None, None)"
            ]
          },
          "metadata": {},
          "execution_count": 47
        }
      ]
    },
    {
      "cell_type": "code",
      "source": [
        "# reshape input to 3D fpr LSTM\n",
        "X_train = X_train.reshape(X_train.shape[0], X_train.shape[1], 1)\n",
        "X_test = X_test.reshape(X_test.shape[0], X_test.shape[1], 1)"
      ],
      "metadata": {
        "id": "ex-c0H7n0e4i"
      },
      "execution_count": null,
      "outputs": []
    },
    {
      "cell_type": "code",
      "source": [
        "print(X_train.shape), print(X_test.shape)"
      ],
      "metadata": {
        "colab": {
          "base_uri": "https://localhost:8080/"
        },
        "id": "n5Z7y5YF1b5g",
        "outputId": "a75fe0ed-c1f5-4ccd-e6d2-dfc193e02657"
      },
      "execution_count": null,
      "outputs": [
        {
          "output_type": "stream",
          "name": "stdout",
          "text": [
            "(775, 100, 1)\n",
            "(118, 100, 1)\n"
          ]
        },
        {
          "output_type": "execute_result",
          "data": {
            "text/plain": [
              "(None, None)"
            ]
          },
          "metadata": {},
          "execution_count": 49
        }
      ]
    },
    {
      "cell_type": "code",
      "source": [
        "# Create stacked LSTM model\n",
        "from tensorflow.keras.models import Sequential\n",
        "from tensorflow.keras.layers import Dense, LSTM, Dropout"
      ],
      "metadata": {
        "id": "7SwMkGxh1fEQ"
      },
      "execution_count": null,
      "outputs": []
    },
    {
      "cell_type": "code",
      "source": [
        "model=Sequential()\n",
        "model.add(LSTM(50,return_sequences=True,input_shape=(100,1)))\n",
        "model.add(LSTM(50,return_sequences=True))\n",
        "model.add(LSTM(50))\n",
        "model.add(Dense(1))\n",
        "model.compile(loss='mean_squared_error',optimizer='adam')"
      ],
      "metadata": {
        "id": "byoMKdLq2_qZ"
      },
      "execution_count": null,
      "outputs": []
    },
    {
      "cell_type": "code",
      "source": [
        "model.summary()"
      ],
      "metadata": {
        "colab": {
          "base_uri": "https://localhost:8080/"
        },
        "id": "cnjdF1eG3jfH",
        "outputId": "5d39c31b-c9f1-4aeb-b323-455026a92425"
      },
      "execution_count": null,
      "outputs": [
        {
          "output_type": "stream",
          "name": "stdout",
          "text": [
            "Model: \"sequential_1\"\n",
            "_________________________________________________________________\n",
            " Layer (type)                Output Shape              Param #   \n",
            "=================================================================\n",
            " lstm_3 (LSTM)               (None, 100, 50)           10400     \n",
            "                                                                 \n",
            " lstm_4 (LSTM)               (None, 100, 50)           20200     \n",
            "                                                                 \n",
            " lstm_5 (LSTM)               (None, 50)                20200     \n",
            "                                                                 \n",
            " dense_1 (Dense)             (None, 1)                 51        \n",
            "                                                                 \n",
            "=================================================================\n",
            "Total params: 50,851\n",
            "Trainable params: 50,851\n",
            "Non-trainable params: 0\n",
            "_________________________________________________________________\n"
          ]
        }
      ]
    },
    {
      "cell_type": "code",
      "source": [
        "model.fit(X_train, y_train, validation_data = (X_test, y_test), epochs = 100, batch_size = 64, verbose = 1)"
      ],
      "metadata": {
        "colab": {
          "base_uri": "https://localhost:8080/"
        },
        "id": "yAFM1dlj3rHB",
        "outputId": "8f2b876f-dfb0-47fb-d35b-b33b1f6086d6"
      },
      "execution_count": null,
      "outputs": [
        {
          "output_type": "stream",
          "name": "stdout",
          "text": [
            "Epoch 1/100\n",
            "13/13 [==============================] - 17s 579ms/step - loss: 0.0355 - val_loss: 0.0469\n",
            "Epoch 2/100\n",
            "13/13 [==============================] - 5s 398ms/step - loss: 0.0061 - val_loss: 0.0076\n",
            "Epoch 3/100\n",
            "13/13 [==============================] - 5s 379ms/step - loss: 0.0037 - val_loss: 0.0132\n",
            "Epoch 4/100\n",
            "13/13 [==============================] - 5s 388ms/step - loss: 0.0030 - val_loss: 0.0069\n",
            "Epoch 5/100\n",
            "13/13 [==============================] - 5s 342ms/step - loss: 0.0024 - val_loss: 0.0073\n",
            "Epoch 6/100\n",
            "13/13 [==============================] - 4s 337ms/step - loss: 0.0023 - val_loss: 0.0062\n",
            "Epoch 7/100\n",
            "13/13 [==============================] - 3s 207ms/step - loss: 0.0021 - val_loss: 0.0061\n",
            "Epoch 8/100\n",
            "13/13 [==============================] - 2s 192ms/step - loss: 0.0020 - val_loss: 0.0068\n",
            "Epoch 9/100\n",
            "13/13 [==============================] - 3s 200ms/step - loss: 0.0020 - val_loss: 0.0054\n",
            "Epoch 10/100\n",
            "13/13 [==============================] - 3s 197ms/step - loss: 0.0020 - val_loss: 0.0054\n",
            "Epoch 11/100\n",
            "13/13 [==============================] - 3s 204ms/step - loss: 0.0019 - val_loss: 0.0050\n",
            "Epoch 12/100\n",
            "13/13 [==============================] - 3s 196ms/step - loss: 0.0021 - val_loss: 0.0045\n",
            "Epoch 13/100\n",
            "13/13 [==============================] - 3s 197ms/step - loss: 0.0020 - val_loss: 0.0043\n",
            "Epoch 14/100\n",
            "13/13 [==============================] - 3s 196ms/step - loss: 0.0017 - val_loss: 0.0048\n",
            "Epoch 15/100\n",
            "13/13 [==============================] - 3s 197ms/step - loss: 0.0016 - val_loss: 0.0037\n",
            "Epoch 16/100\n",
            "13/13 [==============================] - 3s 194ms/step - loss: 0.0017 - val_loss: 0.0036\n",
            "Epoch 17/100\n",
            "13/13 [==============================] - 3s 192ms/step - loss: 0.0015 - val_loss: 0.0041\n",
            "Epoch 18/100\n",
            "13/13 [==============================] - 3s 193ms/step - loss: 0.0017 - val_loss: 0.0085\n",
            "Epoch 19/100\n",
            "13/13 [==============================] - 2s 192ms/step - loss: 0.0018 - val_loss: 0.0067\n",
            "Epoch 20/100\n",
            "13/13 [==============================] - 2s 189ms/step - loss: 0.0016 - val_loss: 0.0035\n",
            "Epoch 21/100\n",
            "13/13 [==============================] - 3s 196ms/step - loss: 0.0014 - val_loss: 0.0032\n",
            "Epoch 22/100\n",
            "13/13 [==============================] - 3s 196ms/step - loss: 0.0014 - val_loss: 0.0030\n",
            "Epoch 23/100\n",
            "13/13 [==============================] - 3s 192ms/step - loss: 0.0014 - val_loss: 0.0029\n",
            "Epoch 24/100\n",
            "13/13 [==============================] - 3s 193ms/step - loss: 0.0012 - val_loss: 0.0028\n",
            "Epoch 25/100\n",
            "13/13 [==============================] - 3s 195ms/step - loss: 0.0012 - val_loss: 0.0065\n",
            "Epoch 26/100\n",
            "13/13 [==============================] - 2s 190ms/step - loss: 0.0018 - val_loss: 0.0031\n",
            "Epoch 27/100\n",
            "13/13 [==============================] - 3s 193ms/step - loss: 0.0012 - val_loss: 0.0028\n",
            "Epoch 28/100\n",
            "13/13 [==============================] - 3s 195ms/step - loss: 0.0010 - val_loss: 0.0038\n",
            "Epoch 29/100\n",
            "13/13 [==============================] - 3s 197ms/step - loss: 0.0011 - val_loss: 0.0025\n",
            "Epoch 30/100\n",
            "13/13 [==============================] - 3s 193ms/step - loss: 9.4258e-04 - val_loss: 0.0036\n",
            "Epoch 31/100\n",
            "13/13 [==============================] - 3s 193ms/step - loss: 0.0011 - val_loss: 0.0028\n",
            "Epoch 32/100\n",
            "13/13 [==============================] - 2s 188ms/step - loss: 0.0010 - val_loss: 0.0027\n",
            "Epoch 33/100\n",
            "13/13 [==============================] - 3s 195ms/step - loss: 0.0010 - val_loss: 0.0033\n",
            "Epoch 34/100\n",
            "13/13 [==============================] - 3s 204ms/step - loss: 9.5741e-04 - val_loss: 0.0025\n",
            "Epoch 35/100\n",
            "13/13 [==============================] - 3s 205ms/step - loss: 8.5710e-04 - val_loss: 0.0020\n",
            "Epoch 36/100\n",
            "13/13 [==============================] - 3s 206ms/step - loss: 7.9489e-04 - val_loss: 0.0019\n",
            "Epoch 37/100\n",
            "13/13 [==============================] - 3s 235ms/step - loss: 7.5757e-04 - val_loss: 0.0018\n",
            "Epoch 38/100\n",
            "13/13 [==============================] - 5s 416ms/step - loss: 7.7993e-04 - val_loss: 0.0033\n",
            "Epoch 39/100\n",
            "13/13 [==============================] - 4s 236ms/step - loss: 7.1718e-04 - val_loss: 0.0016\n",
            "Epoch 40/100\n",
            "13/13 [==============================] - 3s 198ms/step - loss: 7.2705e-04 - val_loss: 0.0035\n",
            "Epoch 41/100\n",
            "13/13 [==============================] - 3s 197ms/step - loss: 7.5654e-04 - val_loss: 0.0018\n",
            "Epoch 42/100\n",
            "13/13 [==============================] - 3s 272ms/step - loss: 8.7726e-04 - val_loss: 0.0044\n",
            "Epoch 43/100\n",
            "13/13 [==============================] - 3s 208ms/step - loss: 0.0010 - val_loss: 0.0026\n",
            "Epoch 44/100\n",
            "13/13 [==============================] - 3s 199ms/step - loss: 8.5294e-04 - val_loss: 0.0068\n",
            "Epoch 45/100\n",
            "13/13 [==============================] - 3s 192ms/step - loss: 0.0010 - val_loss: 0.0055\n",
            "Epoch 46/100\n",
            "13/13 [==============================] - 3s 193ms/step - loss: 9.3979e-04 - val_loss: 0.0017\n",
            "Epoch 47/100\n",
            "13/13 [==============================] - 3s 193ms/step - loss: 7.4100e-04 - val_loss: 0.0016\n",
            "Epoch 48/100\n",
            "13/13 [==============================] - 3s 193ms/step - loss: 6.7208e-04 - val_loss: 0.0015\n",
            "Epoch 49/100\n",
            "13/13 [==============================] - 2s 192ms/step - loss: 6.0644e-04 - val_loss: 0.0016\n",
            "Epoch 50/100\n",
            "13/13 [==============================] - 3s 191ms/step - loss: 5.9512e-04 - val_loss: 0.0017\n",
            "Epoch 51/100\n",
            "13/13 [==============================] - 3s 192ms/step - loss: 8.4695e-04 - val_loss: 0.0016\n",
            "Epoch 52/100\n",
            "13/13 [==============================] - 3s 192ms/step - loss: 7.0005e-04 - val_loss: 0.0014\n",
            "Epoch 53/100\n",
            "13/13 [==============================] - 3s 192ms/step - loss: 6.4732e-04 - val_loss: 0.0014\n",
            "Epoch 54/100\n",
            "13/13 [==============================] - 3s 195ms/step - loss: 5.8958e-04 - val_loss: 0.0014\n",
            "Epoch 55/100\n",
            "13/13 [==============================] - 3s 195ms/step - loss: 5.6252e-04 - val_loss: 0.0016\n",
            "Epoch 56/100\n",
            "13/13 [==============================] - 3s 193ms/step - loss: 6.5527e-04 - val_loss: 0.0020\n",
            "Epoch 57/100\n",
            "13/13 [==============================] - 2s 190ms/step - loss: 5.6342e-04 - val_loss: 0.0023\n",
            "Epoch 58/100\n",
            "13/13 [==============================] - 2s 191ms/step - loss: 6.8002e-04 - val_loss: 0.0025\n",
            "Epoch 59/100\n",
            "13/13 [==============================] - 3s 195ms/step - loss: 6.4393e-04 - val_loss: 0.0017\n",
            "Epoch 60/100\n",
            "13/13 [==============================] - 2s 189ms/step - loss: 6.7527e-04 - val_loss: 0.0018\n",
            "Epoch 61/100\n",
            "13/13 [==============================] - 3s 193ms/step - loss: 6.0277e-04 - val_loss: 0.0014\n",
            "Epoch 62/100\n",
            "13/13 [==============================] - 2s 189ms/step - loss: 5.4654e-04 - val_loss: 0.0027\n",
            "Epoch 63/100\n",
            "13/13 [==============================] - 3s 195ms/step - loss: 7.2129e-04 - val_loss: 0.0019\n",
            "Epoch 64/100\n",
            "13/13 [==============================] - 2s 190ms/step - loss: 5.9189e-04 - val_loss: 0.0017\n",
            "Epoch 65/100\n",
            "13/13 [==============================] - 3s 193ms/step - loss: 6.3085e-04 - val_loss: 0.0013\n",
            "Epoch 66/100\n",
            "13/13 [==============================] - 3s 195ms/step - loss: 5.2451e-04 - val_loss: 0.0028\n",
            "Epoch 67/100\n",
            "13/13 [==============================] - 3s 200ms/step - loss: 5.4326e-04 - val_loss: 0.0015\n",
            "Epoch 68/100\n",
            "13/13 [==============================] - 2s 190ms/step - loss: 5.2175e-04 - val_loss: 0.0012\n",
            "Epoch 69/100\n",
            "13/13 [==============================] - 2s 193ms/step - loss: 4.7854e-04 - val_loss: 0.0014\n",
            "Epoch 70/100\n",
            "13/13 [==============================] - 3s 196ms/step - loss: 4.6705e-04 - val_loss: 0.0017\n",
            "Epoch 71/100\n",
            "13/13 [==============================] - 3s 194ms/step - loss: 6.3252e-04 - val_loss: 0.0013\n",
            "Epoch 72/100\n",
            "13/13 [==============================] - 2s 190ms/step - loss: 4.6477e-04 - val_loss: 0.0015\n",
            "Epoch 73/100\n",
            "13/13 [==============================] - 3s 195ms/step - loss: 4.8021e-04 - val_loss: 0.0012\n",
            "Epoch 74/100\n",
            "13/13 [==============================] - 3s 194ms/step - loss: 4.5073e-04 - val_loss: 0.0017\n",
            "Epoch 75/100\n",
            "13/13 [==============================] - 3s 194ms/step - loss: 4.9959e-04 - val_loss: 0.0016\n",
            "Epoch 76/100\n",
            "13/13 [==============================] - 3s 192ms/step - loss: 4.6352e-04 - val_loss: 0.0018\n",
            "Epoch 77/100\n",
            "13/13 [==============================] - 2s 191ms/step - loss: 5.2718e-04 - val_loss: 0.0014\n",
            "Epoch 78/100\n",
            "13/13 [==============================] - 3s 192ms/step - loss: 4.3039e-04 - val_loss: 0.0013\n",
            "Epoch 79/100\n",
            "13/13 [==============================] - 3s 196ms/step - loss: 4.0820e-04 - val_loss: 0.0013\n",
            "Epoch 80/100\n",
            "13/13 [==============================] - 3s 241ms/step - loss: 4.1870e-04 - val_loss: 0.0013\n",
            "Epoch 81/100\n",
            "13/13 [==============================] - 3s 194ms/step - loss: 4.7111e-04 - val_loss: 0.0013\n",
            "Epoch 82/100\n",
            "13/13 [==============================] - 3s 195ms/step - loss: 4.5243e-04 - val_loss: 0.0012\n",
            "Epoch 83/100\n",
            "13/13 [==============================] - 3s 198ms/step - loss: 4.3430e-04 - val_loss: 0.0014\n",
            "Epoch 84/100\n",
            "13/13 [==============================] - 2s 188ms/step - loss: 3.9894e-04 - val_loss: 0.0013\n",
            "Epoch 85/100\n",
            "13/13 [==============================] - 2s 189ms/step - loss: 4.3852e-04 - val_loss: 0.0014\n",
            "Epoch 86/100\n",
            "13/13 [==============================] - 3s 194ms/step - loss: 4.3507e-04 - val_loss: 0.0024\n",
            "Epoch 87/100\n",
            "13/13 [==============================] - 3s 196ms/step - loss: 3.9667e-04 - val_loss: 0.0013\n",
            "Epoch 88/100\n",
            "13/13 [==============================] - 2s 192ms/step - loss: 3.8373e-04 - val_loss: 0.0021\n",
            "Epoch 89/100\n",
            "13/13 [==============================] - 3s 194ms/step - loss: 4.3623e-04 - val_loss: 0.0030\n",
            "Epoch 90/100\n",
            "13/13 [==============================] - 3s 194ms/step - loss: 6.9601e-04 - val_loss: 0.0013\n",
            "Epoch 91/100\n",
            "13/13 [==============================] - 3s 195ms/step - loss: 5.3018e-04 - val_loss: 0.0012\n",
            "Epoch 92/100\n",
            "13/13 [==============================] - 3s 195ms/step - loss: 4.0657e-04 - val_loss: 0.0018\n",
            "Epoch 93/100\n",
            "13/13 [==============================] - 3s 192ms/step - loss: 4.0930e-04 - val_loss: 0.0011\n",
            "Epoch 94/100\n",
            "13/13 [==============================] - 3s 194ms/step - loss: 4.6867e-04 - val_loss: 0.0015\n",
            "Epoch 95/100\n",
            "13/13 [==============================] - 3s 193ms/step - loss: 4.4175e-04 - val_loss: 0.0016\n",
            "Epoch 96/100\n",
            "13/13 [==============================] - 3s 192ms/step - loss: 5.6431e-04 - val_loss: 0.0014\n",
            "Epoch 97/100\n",
            "13/13 [==============================] - 3s 193ms/step - loss: 4.2588e-04 - val_loss: 0.0014\n",
            "Epoch 98/100\n",
            "13/13 [==============================] - 3s 193ms/step - loss: 3.9322e-04 - val_loss: 0.0018\n",
            "Epoch 99/100\n",
            "13/13 [==============================] - 3s 195ms/step - loss: 4.2920e-04 - val_loss: 0.0023\n",
            "Epoch 100/100\n",
            "13/13 [==============================] - 3s 197ms/step - loss: 4.7141e-04 - val_loss: 0.0012\n"
          ]
        },
        {
          "output_type": "execute_result",
          "data": {
            "text/plain": [
              "<keras.callbacks.History at 0x7fb5645f88d0>"
            ]
          },
          "metadata": {},
          "execution_count": 53
        }
      ]
    },
    {
      "cell_type": "code",
      "source": [
        "train_predict = model.predict(X_train)\n",
        "test_predict = model.predict(X_test)"
      ],
      "metadata": {
        "id": "it2M3BfR4TrO"
      },
      "execution_count": null,
      "outputs": []
    },
    {
      "cell_type": "code",
      "source": [
        "import math\n",
        "from sklearn.metrics import mean_squared_error\n",
        "math.sqrt(mean_squared_error(y_train, train_predict))"
      ],
      "metadata": {
        "colab": {
          "base_uri": "https://localhost:8080/"
        },
        "id": "BbgS4IYO5mrg",
        "outputId": "dfbda1b5-b815-422a-f9f5-9141ae70486c"
      },
      "execution_count": null,
      "outputs": [
        {
          "output_type": "execute_result",
          "data": {
            "text/plain": [
              "0.019185238020965573"
            ]
          },
          "metadata": {},
          "execution_count": 55
        }
      ]
    },
    {
      "cell_type": "code",
      "source": [
        "math.sqrt(mean_squared_error(y_test, test_predict))"
      ],
      "metadata": {
        "colab": {
          "base_uri": "https://localhost:8080/"
        },
        "id": "416PAJC5588g",
        "outputId": "a3aa9441-63fa-430e-f969-2b3933d6f4f4"
      },
      "execution_count": null,
      "outputs": [
        {
          "output_type": "execute_result",
          "data": {
            "text/plain": [
              "0.03438839708755553"
            ]
          },
          "metadata": {},
          "execution_count": 56
        }
      ]
    },
    {
      "cell_type": "code",
      "source": [
        "math.sqrt(mean_squared_error(scaler.inverse_transform(y_train.reshape(-1,1)), scaler.inverse_transform(train_predict.reshape(-1,1))))"
      ],
      "metadata": {
        "colab": {
          "base_uri": "https://localhost:8080/"
        },
        "id": "hnqrYfA4VdhO",
        "outputId": "682deb3c-5ae1-4c31-95ed-0704899edaf7"
      },
      "execution_count": null,
      "outputs": [
        {
          "output_type": "execute_result",
          "data": {
            "text/plain": [
              "1231.0660180934833"
            ]
          },
          "metadata": {},
          "execution_count": 57
        }
      ]
    },
    {
      "cell_type": "code",
      "source": [
        "math.sqrt(mean_squared_error(scaler.inverse_transform(y_test.reshape(-1,1)), scaler.inverse_transform(test_predict.reshape(-1,1))))"
      ],
      "metadata": {
        "colab": {
          "base_uri": "https://localhost:8080/"
        },
        "id": "fWaJlotDVnqo",
        "outputId": "992f493b-4e0c-4dc4-fb8a-ec67e8a3b222"
      },
      "execution_count": null,
      "outputs": [
        {
          "output_type": "execute_result",
          "data": {
            "text/plain": [
              "2206.6123857620473"
            ]
          },
          "metadata": {},
          "execution_count": 58
        }
      ]
    },
    {
      "cell_type": "code",
      "source": [
        "from sklearn.metrics import mean_absolute_error\n",
        "mean_absolute_error(scaler.inverse_transform(y_test.reshape(-1,1)), scaler.inverse_transform(test_predict.reshape(-1,1)))"
      ],
      "metadata": {
        "id": "JC35u_gIrHHS",
        "colab": {
          "base_uri": "https://localhost:8080/"
        },
        "outputId": "b4c67820-542c-4cf5-9248-90eb8e671526"
      },
      "execution_count": null,
      "outputs": [
        {
          "output_type": "execute_result",
          "data": {
            "text/plain": [
              "1702.2809189618645"
            ]
          },
          "metadata": {},
          "execution_count": 59
        }
      ]
    },
    {
      "cell_type": "code",
      "source": [
        "mean_absolute_error(scaler.inverse_transform(y_train.reshape(-1,1)), scaler.inverse_transform(train_predict.reshape(-1,1)))"
      ],
      "metadata": {
        "colab": {
          "base_uri": "https://localhost:8080/"
        },
        "id": "ffHdupmvrRBK",
        "outputId": "bcda8401-d199-4b05-ed7a-ae553b896b9c"
      },
      "execution_count": null,
      "outputs": [
        {
          "output_type": "execute_result",
          "data": {
            "text/plain": [
              "755.1479889112903"
            ]
          },
          "metadata": {},
          "execution_count": 60
        }
      ]
    },
    {
      "cell_type": "code",
      "source": [
        "from sklearn.metrics import r2_score\n",
        "r2_score(y_test, test_predict)"
      ],
      "metadata": {
        "id": "MWAek_qeWYVg",
        "colab": {
          "base_uri": "https://localhost:8080/"
        },
        "outputId": "3f8f99db-36ec-4c32-8206-943e5661a143"
      },
      "execution_count": null,
      "outputs": [
        {
          "output_type": "execute_result",
          "data": {
            "text/plain": [
              "0.9325775873246148"
            ]
          },
          "metadata": {},
          "execution_count": 61
        }
      ]
    },
    {
      "cell_type": "code",
      "source": [
        "r2_score(y_train, train_predict)"
      ],
      "metadata": {
        "id": "a_4tV1YGWX9V",
        "colab": {
          "base_uri": "https://localhost:8080/"
        },
        "outputId": "64e0e6a2-e3b7-471a-847a-e694003a9d87"
      },
      "execution_count": null,
      "outputs": [
        {
          "output_type": "execute_result",
          "data": {
            "text/plain": [
              "0.9941381074208147"
            ]
          },
          "metadata": {},
          "execution_count": 62
        }
      ]
    },
    {
      "cell_type": "code",
      "source": [
        "train_predict = scaler.inverse_transform(train_predict)\n",
        "test_predict = scaler.inverse_transform(test_predict)"
      ],
      "metadata": {
        "id": "s57Ftr1qlXiI"
      },
      "execution_count": null,
      "outputs": []
    },
    {
      "cell_type": "code",
      "source": [
        "look_back = 100\n",
        "trainPredictPlot = np.empty_like(scaled_btc)\n",
        "trainPredictPlot[:,:] = np.nan\n",
        "trainPredictPlot[look_back:len(train_predict) + look_back,:] = train_predict\n",
        "\n",
        "testPredictPlot = np.empty_like(scaled_btc)\n",
        "testPredictPlot[:,:] = np.nan\n",
        "testPredictPlot[len(train_predict) + (look_back*2) + 1:len(scaled_btc) - 1,:] = test_predict\n",
        "\n",
        "plt.figure(figsize=(16,12))\n",
        "plt.plot(scaler.inverse_transform(scaled_btc))\n",
        "plt.plot(trainPredictPlot)\n",
        "plt.plot(testPredictPlot)\n",
        "plt.show()"
      ],
      "metadata": {
        "id": "fidOEDPZ6lSp",
        "colab": {
          "base_uri": "https://localhost:8080/",
          "height": 700
        },
        "outputId": "b10000cc-6ca3-467d-ab94-4ea1c5ff42a4"
      },
      "execution_count": null,
      "outputs": [
        {
          "output_type": "display_data",
          "data": {
            "image/png": "[encoded data removed]",
            "text/plain": [
              "<Figure size 1152x864 with 1 Axes>"
            ]
          },
          "metadata": {
            "needs_background": "light"
          }
        }
      ]
    },
    {
      "cell_type": "code",
      "source": [
        "len(test_data)"
      ],
      "metadata": {
        "id": "6eLKnWjLn_Rt",
        "colab": {
          "base_uri": "https://localhost:8080/"
        },
        "outputId": "1b4abddf-5c92-4eb9-eaf8-d0020ad9fce1"
      },
      "execution_count": null,
      "outputs": [
        {
          "output_type": "execute_result",
          "data": {
            "text/plain": [
              "219"
            ]
          },
          "metadata": {},
          "execution_count": 65
        }
      ]
    },
    {
      "cell_type": "code",
      "source": [
        "x_input=test_data[len(test_data)-100:].reshape(1,-1)\n",
        "x_input.shape"
      ],
      "metadata": {
        "id": "mXrnYoJ4l29x",
        "colab": {
          "base_uri": "https://localhost:8080/"
        },
        "outputId": "9b35584c-9bab-4b8c-ea4e-5a5e23acd777"
      },
      "execution_count": null,
      "outputs": [
        {
          "output_type": "execute_result",
          "data": {
            "text/plain": [
              "(1, 100)"
            ]
          },
          "metadata": {},
          "execution_count": 66
        }
      ]
    },
    {
      "cell_type": "code",
      "source": [
        "temp_input=list(x_input)\n",
        "temp_input=temp_input[0].tolist()"
      ],
      "metadata": {
        "id": "RQD-TRNflz1W"
      },
      "execution_count": null,
      "outputs": []
    },
    {
      "cell_type": "code",
      "source": [
        "# demonstrate prediction for next 30 days\n",
        "\n",
        "lst_output=[]\n",
        "n_steps=100\n",
        "i=0\n",
        "while(i<10):\n",
        "    \n",
        "    if(len(temp_input)>100):\n",
        "        #print(temp_input)\n",
        "        x_input=np.array(temp_input[1:])\n",
        "        #print(\"{} day input {}\".format(i,x_input))\n",
        "        x_input=x_input.reshape(1,-1)\n",
        "        x_input = x_input.reshape((1, n_steps, 1))\n",
        "        #print(x_input)\n",
        "        yhat = model.predict(x_input, verbose=0)\n",
        "        print(\"{} day output {}\".format(i,yhat))\n",
        "        temp_input.extend(yhat[0].tolist())\n",
        "        temp_input=temp_input[1:]\n",
        "        #print(temp_input)\n",
        "        lst_output.extend(yhat.tolist())\n",
        "        i=i+1\n",
        "    else:\n",
        "        x_input = x_input.reshape((1, n_steps,1))\n",
        "        yhat = model.predict(x_input, verbose=0)\n",
        "        print(yhat[0])\n",
        "        temp_input.extend(yhat[0].tolist())\n",
        "        print(len(temp_input))\n",
        "        lst_output.extend(yhat.tolist())\n",
        "        i=i+1\n",
        "    \n",
        "\n",
        "print(lst_output)"
      ],
      "metadata": {
        "id": "L0oDRZoh-0AX",
        "colab": {
          "base_uri": "https://localhost:8080/"
        },
        "outputId": "bcc16097-2c28-4c3b-9ca7-44a2dcc33cd6"
      },
      "execution_count": null,
      "outputs": [
        {
          "output_type": "stream",
          "name": "stdout",
          "text": [
            "[0.5602886]\n",
            "101\n",
            "1 day output [[0.5684657]]\n",
            "2 day output [[0.5789196]]\n",
            "3 day output [[0.59025216]]\n",
            "4 day output [[0.60183907]]\n",
            "5 day output [[0.61336464]]\n",
            "6 day output [[0.6245839]]\n",
            "7 day output [[0.63525856]]\n",
            "8 day output [[0.64514905]]\n",
            "9 day output [[0.6540283]]\n",
            "[[0.5602886080741882], [0.5684657096862793], [0.5789195895195007], [0.590252161026001], [0.6018390655517578], [0.6133646368980408], [0.624583899974823], [0.6352585554122925], [0.6451490521430969], [0.6540282964706421]]\n"
          ]
        }
      ]
    },
    {
      "cell_type": "code",
      "source": [
        "len(scaled_btc)"
      ],
      "metadata": {
        "id": "kOwsU_lirBjg",
        "colab": {
          "base_uri": "https://localhost:8080/"
        },
        "outputId": "900104e6-7b51-4e7c-f8f9-50fdeb7f3d6a"
      },
      "execution_count": null,
      "outputs": [
        {
          "output_type": "execute_result",
          "data": {
            "text/plain": [
              "1095"
            ]
          },
          "metadata": {},
          "execution_count": 69
        }
      ]
    },
    {
      "cell_type": "code",
      "source": [
        "day_new=np.arange(1,101)\n",
        "day_pred=np.arange(101,111)"
      ],
      "metadata": {
        "id": "G0frh9lGrL7z"
      },
      "execution_count": null,
      "outputs": []
    },
    {
      "cell_type": "code",
      "source": [
        "plt.figure(figsize=(16,12))\n",
        "plt.plot(day_new,scaler.inverse_transform(scaled_btc[len(scaled_btc)-100:]))\n",
        "plt.plot(day_pred,scaler.inverse_transform(lst_output))"
      ],
      "metadata": {
        "id": "SX1wP1yvph1Y",
        "colab": {
          "base_uri": "https://localhost:8080/",
          "height": 717
        },
        "outputId": "e504e482-1bc0-4414-b2a3-8caadd355c96"
      },
      "execution_count": null,
      "outputs": [
        {
          "output_type": "execute_result",
          "data": {
            "text/plain": [
              "[<matplotlib.lines.Line2D at 0x7fb5e76d77d0>]"
            ]
          },
          "metadata": {},
          "execution_count": 71
        },
        {
          "output_type": "display_data",
          "data": {
            "image/png": "[encoded data removed]",
            "text/plain": [
              "<Figure size 1152x864 with 1 Axes>"
            ]
          },
          "metadata": {
            "needs_background": "light"
          }
        }
      ]
    },
    {
      "cell_type": "code",
      "source": [
        ""
      ],
      "metadata": {
        "id": "pzROssJFXiO2"
      },
      "execution_count": null,
      "outputs": []
    }
  ]
}